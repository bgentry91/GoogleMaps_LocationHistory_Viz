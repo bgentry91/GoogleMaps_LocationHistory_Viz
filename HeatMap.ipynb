{
 "cells": [
  {
   "cell_type": "code",
   "execution_count": 1,
   "metadata": {
    "collapsed": true
   },
   "outputs": [],
   "source": [
    "#bring in json file to dataframe\n",
    "\n",
    "import pandas as pd\n",
    "import json\n",
    "from pandas.io.json import json_normalize\n",
    "\n",
    "file_path = 'filepath_to_your_json'\n",
    "\n",
    "with open(file_path, 'r') as f:\n",
    "    data = json.load(f)\n",
    "    \n",
    "df = json_normalize(data,'locations')"
   ]
  },
  {
   "cell_type": "code",
   "execution_count": 88,
   "metadata": {
    "collapsed": true
   },
   "outputs": [],
   "source": [
    "#drop records with velocity, replace NaN with 0.0\n",
    "\n",
    "df['velocity'].fillna(0.0,inplace = True)\n",
    "df = df[df['velocity']<=0]\n",
    "df.reset_index(inplace=True, drop = True)"
   ]
  },
  {
   "cell_type": "code",
   "execution_count": 2,
   "metadata": {
    "collapsed": true
   },
   "outputs": [],
   "source": [
    "#cleanup latitude and longitude\n",
    "\n",
    "df['latitudeE7'] = df['latitudeE7'].fillna(0.0).astype(float)\n",
    "df['longitudeE7'] = df['longitudeE7'].fillna(0.0).astype(float)\n",
    "\n",
    "df['latitude'] = df.apply(lambda x: x['latitudeE7']/10000000.0,axis = 1)\n",
    "df['longitude'] = df.apply(lambda x: x['longitudeE7']/10000000.0, axis = 1)\n",
    "\n",
    "del df['longitudeE7']\n",
    "del df['latitudeE7']"
   ]
  },
  {
   "cell_type": "code",
   "execution_count": 5,
   "metadata": {
    "collapsed": true
   },
   "outputs": [],
   "source": [
    "import gmplot\n",
    "\n",
    "def plot_map(df, map_name):\n",
    "    gmap = gmplot.GoogleMapPlotter(41.766834, -72.688671, 16)\n",
    "\n",
    "    gmap.scatter(df.short_lat.tolist(), df.short_long.tolist(), '#FF6666', edge_width=10)\n",
    "    gmap.heatmap(df.short_lat.tolist(), df.short_long.tolist())\n",
    "\n",
    "    gmap.draw(map_name +\"_map.html\")"
   ]
  },
  {
   "cell_type": "code",
   "execution_count": 8,
   "metadata": {
    "collapsed": true
   },
   "outputs": [],
   "source": [
    "#best hartford heatmap\n",
    "\n",
    "df2 = pd.DataFrame()\n",
    "df2['latitude'] = df['latitude']\n",
    "df2['longitude'] = df['longitude']\n",
    "   \n",
    "df2['short_lat'] = df2.apply(lambda x: ((x['latitude']).round(decimals = 4)), axis = 1)\n",
    "df2['short_long'] = df2.apply(lambda x: ((x['longitude']).round(decimals = 4)), axis = 1)\n",
    "\n",
    "df_hartford = df2.groupby(['short_lat','short_long']).agg({'latitude':'count'}).reset_index()\n",
    "\n",
    "del df_hartford['latitude']\n",
    "\n",
    "df_hartford.query('short_long < -72.584551', inplace = True)\n",
    "df_hartford.query('short_long > -72.800233', inplace = True)\n",
    "df_hartford.query('short_lat > 41.675283', inplace = True)\n",
    "df_hartford.query('short_lat < 41.834845', inplace = True)\n",
    "\n",
    "plot_map(df_hartford, 'hartford')"
   ]
  },
  {
   "cell_type": "code",
   "execution_count": 9,
   "metadata": {},
   "outputs": [
    {
     "data": {
      "text/plain": [
       "(42.033488, -71.797748)"
      ]
     },
     "execution_count": 9,
     "metadata": {},
     "output_type": "execute_result"
    }
   ],
   "source": [
    "#best CT heatmap\n",
    "\n",
    "df2 = pd.DataFrame()\n",
    "df2['latitude'] = df['latitude']\n",
    "df2['longitude'] = df['longitude']\n",
    "   \n",
    "df2['short_lat'] = df2.apply(lambda x: ((x['latitude']).round(decimals = 3)), axis = 1)\n",
    "df2['short_long'] = df2.apply(lambda x: ((x['longitude']).round(decimals = 3)), axis = 1)\n",
    "\n",
    "df_CT = df2.groupby(['short_lat','short_long']).agg({'latitude':'count'}).reset_index()\n",
    "\n",
    "del df_CT['latitude']\n",
    "\n",
    "df_CT.query('short_long < -71.797748', inplace = True)\n",
    "df_CT.query('short_long > -73.653025', inplace = True)\n",
    "df_CT.query('short_lat > 41.003823', inplace = True)\n",
    "df_CT.query('short_lat < 42.033488', inplace = True)\n",
    "\n",
    "plot_map(df_CT, 'CT')\n"
   ]
  },
  {
   "cell_type": "code",
   "execution_count": 10,
   "metadata": {
    "collapsed": true
   },
   "outputs": [],
   "source": [
    "#best new England heatmap\n",
    "\n",
    "df2 = pd.DataFrame()\n",
    "df2['latitude'] = df['latitude']\n",
    "df2['longitude'] = df['longitude']\n",
    "   \n",
    "df2['short_lat'] = df2.apply(lambda x: ((x['latitude']).round(decimals = 3)), axis = 1)\n",
    "df2['short_long'] = df2.apply(lambda x: ((x['longitude']).round(decimals = 3)), axis = 1)\n",
    "\n",
    "df_CT = df2.groupby(['short_lat','short_long']).agg({'latitude':'count'}).reset_index()\n",
    "\n",
    "\n",
    "del df_CT['latitude']\n",
    "\n",
    "df_CT.query('short_long < -70.762119', inplace = True)\n",
    "df_CT.query('short_long > -75.881748', inplace = True)\n",
    "df_CT.query('short_lat > 40.497342', inplace = True)\n",
    "df_CT.query('short_lat < 43.293439', inplace = True)\n",
    "\n",
    "plot_map(df_CT, 'New England')\n",
    "\n"
   ]
  },
  {
   "cell_type": "code",
   "execution_count": 25,
   "metadata": {
    "collapsed": true
   },
   "outputs": [],
   "source": [
    "import pandas as pd\n",
    "import json\n",
    "import os\n",
    "\n",
    "#fill out your own info here\n",
    "#the resolution took a lot of manipulation to get right,\n",
    "#you may have to play with it depending on how your data works out\n",
    "map_name = 'your_map_name_here'\n",
    "map_center_lat = 41.766834\n",
    "map_center_long = -72.688671\n",
    "cord_low_lat = 40.497342\n",
    "cord_high_lat = 43.293439\n",
    "cord_low_long = -75.881748\n",
    "cord_high_long = -70.762119\n",
    "google_json = 'your_location_history_json_here'\n",
    "coordinate_resolution = 3 \n",
    "\n",
    "#plot HTML map\n",
    "def plot_map(plot_df, map_name):\n",
    "    import gmplot\n",
    "    gmap = gmplot.GoogleMapPlotter(map_center_lat, map_center_long, 8)\n",
    "\n",
    "    gmap.scatter(plot_df.short_lat.tolist(), plot_df.short_long.tolist(), '#FF6666', edge_width=10)\n",
    "    gmap.heatmap(plot_df.short_lat.tolist(), plot_df.short_long.tolist())\n",
    "\n",
    "    gmap.draw(map_name +\"_map.html\")\n",
    "\n",
    "#open html map\n",
    "def open_html_map(html_path):\n",
    "    import webbrowser\n",
    "    chrome_path = 'open -a /Applications/Google\\ Chrome.app %s'\n",
    "    webbrowser.get(chrome_path).open(html_path)\n",
    "    \n",
    "#bring in json file to dataframe\n",
    "with open(google_json, 'r') as f:\n",
    "    data = json.load(f)\n",
    "    \n",
    "df = json_normalize(data,'locations')\n",
    "\n",
    "#cleanup latitude and longitude\n",
    "df['latitudeE7'] = df['latitudeE7'].fillna(0.0).astype(float)\n",
    "df['longitudeE7'] = df['longitudeE7'].fillna(0.0).astype(float)\n",
    "\n",
    "df['latitude'] = df.apply(lambda x: x['latitudeE7']/10000000.0,axis = 1)\n",
    "df['longitude'] = df.apply(lambda x: x['longitudeE7']/10000000.0, axis = 1)\n",
    "\n",
    "del df['longitudeE7']\n",
    "del df['latitudeE7']\n",
    "\n",
    "\n",
    "#rounding the coordinates - resolution is important!\n",
    "df2 = pd.DataFrame()\n",
    "df2['latitude'] = df['latitude']\n",
    "df2['longitude'] = df['longitude']\n",
    "   \n",
    "df2['short_lat'] = df2.apply(lambda x: ((x['latitude']).round(decimals = coordinate_resolution)), axis = 1)\n",
    "df2['short_long'] = df2.apply(lambda x: ((x['longitude']).round(decimals = coordinate_resolution)), axis = 1)\n",
    "\n",
    "#grouping by the resolution\n",
    "#by doing this, we ignore how many times a place was visited\n",
    "#but variation in GPS coordinates allows us to get away with\n",
    "#it to make the map look good\n",
    "df2 = df2.groupby(['short_lat','short_long']).agg({'latitude':'count'}).reset_index()\n",
    "del df2['latitude']\n",
    "\n",
    "df2.query('short_lat > ' + str(cord_low_lat), inplace = True)\n",
    "df2.query('short_lat < ' + str(cord_high_lat), inplace = True)\n",
    "df2.query('short_long > ' + str(cord_low_long), inplace = True)\n",
    "df2.query('short_long < ' + str(cord_high_long), inplace = True)\n",
    "\n",
    "plot_map(df2, map_name)\n",
    "open_html_map(os.getcwd() + '/' + map_name +\"_map.html\")\n"
   ]
  },
  {
   "cell_type": "code",
   "execution_count": 11,
   "metadata": {
    "collapsed": true
   },
   "outputs": [],
   "source": [
    "def open_html_map(html_path):\n",
    "    import webbrowser\n",
    "    chrome_path = 'open -a /Applications/Google\\ Chrome.app %s'\n",
    "    webbrowser.get(chrome_path).open(html_path)\n",
    "    \n",
    "open_html_map('http://docs.python.org/')"
   ]
  }
 ],
 "metadata": {
  "kernelspec": {
   "display_name": "Python 3",
   "language": "python",
   "name": "python3"
  },
  "language_info": {
   "codemirror_mode": {
    "name": "ipython",
    "version": 3
   },
   "file_extension": ".py",
   "mimetype": "text/x-python",
   "name": "python",
   "nbconvert_exporter": "python",
   "pygments_lexer": "ipython3",
   "version": "3.6.4"
  }
 },
 "nbformat": 4,
 "nbformat_minor": 2
}
